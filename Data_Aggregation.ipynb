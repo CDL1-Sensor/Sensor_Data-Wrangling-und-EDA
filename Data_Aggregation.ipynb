{
 "cells": [
  {
   "cell_type": "code",
   "execution_count": 1,
   "metadata": {},
   "outputs": [],
   "source": [
    "# convert none jason like zip files and csv to json\n",
    "def convert_to_json(file_name):\n",
    "    with open(file_name, 'r') as f:\n",
    "        data = f.readlines()\n",
    "        data = map(lambda x: x.rstrip(), data)\n",
    "        data_json = \"[\" + ','.join(data) + \"]\"\n",
    "        return data_json"
   ]
  },
  {
   "cell_type": "code",
   "execution_count": 43,
   "metadata": {},
   "outputs": [],
   "source": [
    "# todo \n",
    "import zipfile\n",
    "import os\n",
    "def convert_zip_of_csv_to_json(to_unpack, to_path, filenumber):\n",
    "    with zipfile.ZipFile(to_unpack, 'r') as zip_ref:\n",
    "        print(to_path+ \"\\\\\" + filenumber)\n",
    "        zip_ref.extractall('temp_csv\\\\' + to_path + '\\\\' +  filenumber)"
   ]
  },
  {
   "cell_type": "code",
   "execution_count": 44,
   "metadata": {},
   "outputs": [
    {
     "name": "stdout",
     "output_type": "stream",
     "text": [
      "Messungen\\Laufen\\Florin_Barbisch\\01_Pixel6-2023-02-24_17-31-22\n",
      "Messungen\\Sitzen\\Florin_Barbisch\\01_Pixel6-2023-02-23_21-42-02\n",
      "Messungen\\Stehen\\Florin_Barbisch\\01_Pixel6-2023-02-24_16-11-21\n",
      "Messungen\\Velofahren\\Florin_Barbisch\\01Pixel6\n",
      "Messungen\\Velofahren\\Florin_Barbisch\\02Pixel6\n"
     ]
    }
   ],
   "source": [
    "from os import walk\n",
    "\n",
    "Laufen = []\n",
    "Rennen = []\n",
    "Sitzen = []\n",
    "Stehen = []\n",
    "Treppenlaufen  = []\n",
    "Velofahren = []\n",
    "\n",
    "for (dirpath, dirnames, filenames) in walk(\"Messungen\"):\n",
    "    for file in filenames:\n",
    "        if file.endswith('.zip'):\n",
    "            convert_zip_of_csv_to_json(dirpath + '\\\\' + file, dirpath, file[:-4])\n",
    "            exit\n",
    "        \n",
    "        \n",
    "        \n",
    "    if (dirpath.count('\\\\') == 2):\n",
    "        if ('Laufen' in dirpath):\n",
    "            Laufen.append(dirpath)\n",
    "        elif ('Sitzen' in dirpath):\n",
    "            Rennen.append(dirpath)\n",
    "        elif('Stehen' in dirpath):\n",
    "            Stehen.append(dirpath)\n",
    "        elif('Rennen' in dirpath):\n",
    "            Rennen.append(dirpath)\n",
    "        elif('Velofahren' in dirpath):\n",
    "            Velofahren.append(dirpath)\n",
    "        elif('Treppenlaufen' in dirpath):\n",
    "            Treppenlaufen.append(dirpath)"
   ]
  },
  {
   "cell_type": "code",
   "execution_count": 68,
   "metadata": {},
   "outputs": [],
   "source": [
    "def combine_all_file_with_dirpath(dirpaths):\n",
    "    all_files = []\n",
    "    for dirpath in dirpaths:\n",
    "        for (dirpath, dirnames, filenames) in walk(dirpath):\n",
    "            for filename in filenames:\n",
    "                all_files.append(dirpath + '\\\\' + filename)\n",
    "    return all_files"
   ]
  },
  {
   "cell_type": "code",
   "execution_count": 73,
   "metadata": {},
   "outputs": [],
   "source": [
    "files_laufen = combine_all_file_with_dirpath(Laufen)\n",
    "files_rennen = combine_all_file_with_dirpath(Rennen)\n",
    "files_sitzen = combine_all_file_with_dirpath(Sitzen)\n",
    "files_stehen = combine_all_file_with_dirpath(Stehen)\n",
    "files_rennen = combine_all_file_with_dirpath(Rennen)\n",
    "files_velofahren = combine_all_file_with_dirpath(Velofahren)\n",
    "files_treppenlaufen = combine_all_file_with_dirpath(Treppenlaufen)\n"
   ]
  },
  {
   "cell_type": "code",
   "execution_count": 74,
   "metadata": {},
   "outputs": [],
   "source": [
    "import json\n",
    "def concat_json(files):\n",
    "    all_json = []\n",
    "    for file in files:\n",
    "        with open(file, 'r') as f:\n",
    "            all_json.append(json.load(f))\n",
    "    return all_json"
   ]
  },
  {
   "cell_type": "code",
   "execution_count": 76,
   "metadata": {},
   "outputs": [
    {
     "name": "stdout",
     "output_type": "stream",
     "text": [
      "['Messungen\\\\Laufen\\\\Ben_Tran\\\\01_SamsungA22-2023-02-23_15-46-13.json', 'Messungen\\\\Laufen\\\\Ben_Tran\\\\02_SamsungA22-2023-02-24_11-56-10.json', 'Messungen\\\\Laufen\\\\Ben_Tran\\\\03-SamsungA22-2023-02-24_13-12-51.json', 'Messungen\\\\Laufen\\\\Florin_Barbisch\\\\01_Pixel6-2023-02-24_17-31-22.zip', 'Messungen\\\\Laufen\\\\Gabriel_Torres\\\\01_iPhone13ProMax-2023-02-23_17-00-29.json', 'Messungen\\\\Laufen\\\\Gabriel_Torres\\\\02_iPhone13ProMax-2023-02-24_13-13-16.json']\n"
     ]
    },
    {
     "ename": "UnicodeDecodeError",
     "evalue": "'charmap' codec can't decode byte 0x9d in position 14: character maps to <undefined>",
     "output_type": "error",
     "traceback": [
      "\u001b[1;31m---------------------------------------------------------------------------\u001b[0m",
      "\u001b[1;31mUnicodeDecodeError\u001b[0m                        Traceback (most recent call last)",
      "Cell \u001b[1;32mIn[76], line 2\u001b[0m\n\u001b[0;32m      1\u001b[0m \u001b[39mprint\u001b[39m(files_laufen)\n\u001b[1;32m----> 2\u001b[0m concat_laufen \u001b[39m=\u001b[39m concat_json(files_laufen)\n",
      "Cell \u001b[1;32mIn[74], line 6\u001b[0m, in \u001b[0;36mconcat_json\u001b[1;34m(files)\u001b[0m\n\u001b[0;32m      4\u001b[0m \u001b[39mfor\u001b[39;00m file \u001b[39min\u001b[39;00m files:\n\u001b[0;32m      5\u001b[0m     \u001b[39mwith\u001b[39;00m \u001b[39mopen\u001b[39m(file, \u001b[39m'\u001b[39m\u001b[39mr\u001b[39m\u001b[39m'\u001b[39m) \u001b[39mas\u001b[39;00m f:\n\u001b[1;32m----> 6\u001b[0m         all_json\u001b[39m.\u001b[39mappend(json\u001b[39m.\u001b[39;49mload(f))\n\u001b[0;32m      7\u001b[0m \u001b[39mreturn\u001b[39;00m all_json\n",
      "File \u001b[1;32mc:\\Users\\super\\AppData\\Local\\Programs\\Python\\Python310\\lib\\json\\__init__.py:293\u001b[0m, in \u001b[0;36mload\u001b[1;34m(fp, cls, object_hook, parse_float, parse_int, parse_constant, object_pairs_hook, **kw)\u001b[0m\n\u001b[0;32m    274\u001b[0m \u001b[39mdef\u001b[39;00m \u001b[39mload\u001b[39m(fp, \u001b[39m*\u001b[39m, \u001b[39mcls\u001b[39m\u001b[39m=\u001b[39m\u001b[39mNone\u001b[39;00m, object_hook\u001b[39m=\u001b[39m\u001b[39mNone\u001b[39;00m, parse_float\u001b[39m=\u001b[39m\u001b[39mNone\u001b[39;00m,\n\u001b[0;32m    275\u001b[0m         parse_int\u001b[39m=\u001b[39m\u001b[39mNone\u001b[39;00m, parse_constant\u001b[39m=\u001b[39m\u001b[39mNone\u001b[39;00m, object_pairs_hook\u001b[39m=\u001b[39m\u001b[39mNone\u001b[39;00m, \u001b[39m*\u001b[39m\u001b[39m*\u001b[39mkw):\n\u001b[0;32m    276\u001b[0m \u001b[39m    \u001b[39m\u001b[39m\"\"\"Deserialize ``fp`` (a ``.read()``-supporting file-like object containing\u001b[39;00m\n\u001b[0;32m    277\u001b[0m \u001b[39m    a JSON document) to a Python object.\u001b[39;00m\n\u001b[0;32m    278\u001b[0m \n\u001b[1;32m   (...)\u001b[0m\n\u001b[0;32m    291\u001b[0m \u001b[39m    kwarg; otherwise ``JSONDecoder`` is used.\u001b[39;00m\n\u001b[0;32m    292\u001b[0m \u001b[39m    \"\"\"\u001b[39;00m\n\u001b[1;32m--> 293\u001b[0m     \u001b[39mreturn\u001b[39;00m loads(fp\u001b[39m.\u001b[39;49mread(),\n\u001b[0;32m    294\u001b[0m         \u001b[39mcls\u001b[39m\u001b[39m=\u001b[39m\u001b[39mcls\u001b[39m, object_hook\u001b[39m=\u001b[39mobject_hook,\n\u001b[0;32m    295\u001b[0m         parse_float\u001b[39m=\u001b[39mparse_float, parse_int\u001b[39m=\u001b[39mparse_int,\n\u001b[0;32m    296\u001b[0m         parse_constant\u001b[39m=\u001b[39mparse_constant, object_pairs_hook\u001b[39m=\u001b[39mobject_pairs_hook, \u001b[39m*\u001b[39m\u001b[39m*\u001b[39mkw)\n",
      "File \u001b[1;32mc:\\Users\\super\\AppData\\Local\\Programs\\Python\\Python310\\lib\\encodings\\cp1252.py:23\u001b[0m, in \u001b[0;36mIncrementalDecoder.decode\u001b[1;34m(self, input, final)\u001b[0m\n\u001b[0;32m     22\u001b[0m \u001b[39mdef\u001b[39;00m \u001b[39mdecode\u001b[39m(\u001b[39mself\u001b[39m, \u001b[39minput\u001b[39m, final\u001b[39m=\u001b[39m\u001b[39mFalse\u001b[39;00m):\n\u001b[1;32m---> 23\u001b[0m     \u001b[39mreturn\u001b[39;00m codecs\u001b[39m.\u001b[39;49mcharmap_decode(\u001b[39minput\u001b[39;49m,\u001b[39mself\u001b[39;49m\u001b[39m.\u001b[39;49merrors,decoding_table)[\u001b[39m0\u001b[39m]\n",
      "\u001b[1;31mUnicodeDecodeError\u001b[0m: 'charmap' codec can't decode byte 0x9d in position 14: character maps to <undefined>"
     ]
    }
   ],
   "source": [
    "\n",
    "concat_laufen = concat_json(files_laufen)"
   ]
  },
  {
   "cell_type": "code",
   "execution_count": null,
   "metadata": {},
   "outputs": [],
   "source": []
  },
  {
   "cell_type": "code",
   "execution_count": null,
   "metadata": {},
   "outputs": [],
   "source": []
  }
 ],
 "metadata": {
  "kernelspec": {
   "display_name": "Python 3",
   "language": "python",
   "name": "python3"
  },
  "language_info": {
   "codemirror_mode": {
    "name": "ipython",
    "version": 3
   },
   "file_extension": ".py",
   "mimetype": "text/x-python",
   "name": "python",
   "nbconvert_exporter": "python",
   "pygments_lexer": "ipython3",
   "version": "3.10.9"
  },
  "orig_nbformat": 4,
  "vscode": {
   "interpreter": {
    "hash": "118d2d70b9837ec74e99cd8e271bd7c1e24309015268c38b027840ab45e80ec0"
   }
  }
 },
 "nbformat": 4,
 "nbformat_minor": 2
}
