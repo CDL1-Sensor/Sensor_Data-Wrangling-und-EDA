{
 "cells": [
  {
   "cell_type": "code",
   "execution_count": 32,
   "metadata": {},
   "outputs": [
    {
     "data": {
      "text/plain": [
       "[WindowsPath('Messungen/Laufen/Ben_Tran/01_SamsungA22-2023-02-23_15-46-13.json'),\n",
       " WindowsPath('Messungen/Laufen/Ben_Tran/02_SamsungA22-2023-02-24_11-56-10.json'),\n",
       " WindowsPath('Messungen/Laufen/Ben_Tran/03-SamsungA22-2023-02-24_13-12-51.json'),\n",
       " WindowsPath('Messungen/Laufen/Florin_Barbisch/01_Pixel6-2023-02-24_17-31-22.json'),\n",
       " WindowsPath('Messungen/Laufen/Gabriel_Torres/01_iPhone13ProMax-2023-02-23_17-00-29.json'),\n",
       " WindowsPath('Messungen/Laufen/Gabriel_Torres/02_iPhone13ProMax-2023-02-24_13-13-16.json'),\n",
       " WindowsPath('Messungen/Sitzen/Ben_Tran/01_SamsungA22-2023-02-23_15-24-28.json'),\n",
       " WindowsPath('Messungen/Sitzen/Ben_Tran/02_SamsungA22-2023-02-24_08-59-18.json'),\n",
       " WindowsPath('Messungen/Sitzen/Ben_Tran/03_SamsungA22-2023-02-24_11-46-43.json'),\n",
       " WindowsPath('Messungen/Sitzen/Etienne_Roulet/01_iPhone13Pro-2023-02-24_10-22-39.json'),\n",
       " WindowsPath('Messungen/Sitzen/Etienne_Roulet/02_iPhone13Pro-2023-02-24_10-28-14.json'),\n",
       " WindowsPath('Messungen/Sitzen/Gabriel_Torres/01_iPhone13ProMax-2023-02-23_15-26-55.json'),\n",
       " WindowsPath('Messungen/Stehen/Etienne_Roulet/01_iphone13Pro-2023-02-23_16-56-07.json'),\n",
       " WindowsPath('Messungen/Treppenlaufen/Ben_Tran/01-SamsungA22-2023-02-24_13-16-33.json'),\n",
       " WindowsPath('Messungen/Treppenlaufen/Ben_Tran/02-SamsungA22-2023-02-24_13-21-25.json'),\n",
       " WindowsPath('Messungen/Treppenlaufen/Ben_Tran/03-SamsungA22-2023-02-24_13-23-56.json'),\n",
       " WindowsPath('Messungen/Treppenlaufen/Gabriel_Torres/01_iPhone13ProMax-2023-02-24_13-16-43.json'),\n",
       " WindowsPath('Messungen/Treppenlaufen/Gabriel_Torres/02_iPhone13ProMax-2023-02-24_13-21-25.json'),\n",
       " WindowsPath('Messungen/Treppenlaufen/Gabriel_Torres/03_iPhone13ProMax-2023-02-24_13-24-30.json'),\n",
       " WindowsPath('Messungen/Velofahren/Ben_Tran/01_SamsungA22-2023-02-23_16-19-38.json'),\n",
       " WindowsPath('Messungen/Velofahren/Ben_Tran/02_SamsungA22-2023-02-23_16-22-19.json'),\n",
       " WindowsPath('Messungen/Velofahren/Ben_Tran/03_SamsungA22-2023-02-23_16-25-16.json'),\n",
       " WindowsPath('Messungen/Velofahren/Ben_Tran/04_SamsungA22-2023-02-23_16-29-55.json'),\n",
       " WindowsPath('Messungen/Velofahren/Florin_Barbisch/Velöli_vom_bahnhof_hei-2023-02-23_17-30-57.json'),\n",
       " WindowsPath('Messungen/Laufen/Ben_Tran/01_SamsungA22-2023-02-23_15-46-13.json'),\n",
       " WindowsPath('Messungen/Laufen/Ben_Tran/02_SamsungA22-2023-02-24_11-56-10.json'),\n",
       " WindowsPath('Messungen/Laufen/Ben_Tran/03-SamsungA22-2023-02-24_13-12-51.json'),\n",
       " WindowsPath('Messungen/Laufen/Florin_Barbisch/01_Pixel6-2023-02-24_17-31-22.json'),\n",
       " WindowsPath('Messungen/Laufen/Gabriel_Torres/01_iPhone13ProMax-2023-02-23_17-00-29.json'),\n",
       " WindowsPath('Messungen/Laufen/Gabriel_Torres/02_iPhone13ProMax-2023-02-24_13-13-16.json'),\n",
       " WindowsPath('Messungen/Sitzen/Ben_Tran/01_SamsungA22-2023-02-23_15-24-28.json'),\n",
       " WindowsPath('Messungen/Sitzen/Ben_Tran/02_SamsungA22-2023-02-24_08-59-18.json'),\n",
       " WindowsPath('Messungen/Sitzen/Ben_Tran/03_SamsungA22-2023-02-24_11-46-43.json'),\n",
       " WindowsPath('Messungen/Sitzen/Etienne_Roulet/01_iPhone13Pro-2023-02-24_10-22-39.json'),\n",
       " WindowsPath('Messungen/Sitzen/Etienne_Roulet/02_iPhone13Pro-2023-02-24_10-28-14.json'),\n",
       " WindowsPath('Messungen/Sitzen/Gabriel_Torres/01_iPhone13ProMax-2023-02-23_15-26-55.json'),\n",
       " WindowsPath('Messungen/Stehen/Etienne_Roulet/01_iphone13Pro-2023-02-23_16-56-07.json'),\n",
       " WindowsPath('Messungen/Treppenlaufen/Ben_Tran/01-SamsungA22-2023-02-24_13-16-33.json'),\n",
       " WindowsPath('Messungen/Treppenlaufen/Ben_Tran/02-SamsungA22-2023-02-24_13-21-25.json'),\n",
       " WindowsPath('Messungen/Treppenlaufen/Ben_Tran/03-SamsungA22-2023-02-24_13-23-56.json'),\n",
       " WindowsPath('Messungen/Treppenlaufen/Gabriel_Torres/01_iPhone13ProMax-2023-02-24_13-16-43.json'),\n",
       " WindowsPath('Messungen/Treppenlaufen/Gabriel_Torres/02_iPhone13ProMax-2023-02-24_13-21-25.json'),\n",
       " WindowsPath('Messungen/Treppenlaufen/Gabriel_Torres/03_iPhone13ProMax-2023-02-24_13-24-30.json'),\n",
       " WindowsPath('Messungen/Velofahren/Ben_Tran/01_SamsungA22-2023-02-23_16-19-38.json'),\n",
       " WindowsPath('Messungen/Velofahren/Ben_Tran/02_SamsungA22-2023-02-23_16-22-19.json'),\n",
       " WindowsPath('Messungen/Velofahren/Ben_Tran/03_SamsungA22-2023-02-23_16-25-16.json'),\n",
       " WindowsPath('Messungen/Velofahren/Ben_Tran/04_SamsungA22-2023-02-23_16-29-55.json'),\n",
       " WindowsPath('Messungen/Velofahren/Florin_Barbisch/Velöli_vom_bahnhof_hei-2023-02-23_17-30-57.json'),\n",
       " WindowsPath('Messungen/Laufen/Ben_Tran/01_SamsungA22-2023-02-23_15-46-13.json'),\n",
       " WindowsPath('Messungen/Laufen/Ben_Tran/02_SamsungA22-2023-02-24_11-56-10.json'),\n",
       " WindowsPath('Messungen/Laufen/Ben_Tran/03-SamsungA22-2023-02-24_13-12-51.json'),\n",
       " WindowsPath('Messungen/Laufen/Florin_Barbisch/01_Pixel6-2023-02-24_17-31-22.json'),\n",
       " WindowsPath('Messungen/Laufen/Gabriel_Torres/01_iPhone13ProMax-2023-02-23_17-00-29.json'),\n",
       " WindowsPath('Messungen/Laufen/Gabriel_Torres/02_iPhone13ProMax-2023-02-24_13-13-16.json'),\n",
       " WindowsPath('Messungen/Sitzen/Ben_Tran/01_SamsungA22-2023-02-23_15-24-28.json'),\n",
       " WindowsPath('Messungen/Sitzen/Ben_Tran/02_SamsungA22-2023-02-24_08-59-18.json'),\n",
       " WindowsPath('Messungen/Sitzen/Ben_Tran/03_SamsungA22-2023-02-24_11-46-43.json'),\n",
       " WindowsPath('Messungen/Sitzen/Etienne_Roulet/01_iPhone13Pro-2023-02-24_10-22-39.json'),\n",
       " WindowsPath('Messungen/Sitzen/Etienne_Roulet/02_iPhone13Pro-2023-02-24_10-28-14.json'),\n",
       " WindowsPath('Messungen/Sitzen/Gabriel_Torres/01_iPhone13ProMax-2023-02-23_15-26-55.json'),\n",
       " WindowsPath('Messungen/Stehen/Etienne_Roulet/01_iphone13Pro-2023-02-23_16-56-07.json'),\n",
       " WindowsPath('Messungen/Treppenlaufen/Ben_Tran/01-SamsungA22-2023-02-24_13-16-33.json'),\n",
       " WindowsPath('Messungen/Treppenlaufen/Ben_Tran/02-SamsungA22-2023-02-24_13-21-25.json'),\n",
       " WindowsPath('Messungen/Treppenlaufen/Ben_Tran/03-SamsungA22-2023-02-24_13-23-56.json'),\n",
       " WindowsPath('Messungen/Treppenlaufen/Gabriel_Torres/01_iPhone13ProMax-2023-02-24_13-16-43.json'),\n",
       " WindowsPath('Messungen/Treppenlaufen/Gabriel_Torres/02_iPhone13ProMax-2023-02-24_13-21-25.json'),\n",
       " WindowsPath('Messungen/Treppenlaufen/Gabriel_Torres/03_iPhone13ProMax-2023-02-24_13-24-30.json'),\n",
       " WindowsPath('Messungen/Velofahren/Ben_Tran/01_SamsungA22-2023-02-23_16-19-38.json'),\n",
       " WindowsPath('Messungen/Velofahren/Ben_Tran/02_SamsungA22-2023-02-23_16-22-19.json'),\n",
       " WindowsPath('Messungen/Velofahren/Ben_Tran/03_SamsungA22-2023-02-23_16-25-16.json'),\n",
       " WindowsPath('Messungen/Velofahren/Ben_Tran/04_SamsungA22-2023-02-23_16-29-55.json'),\n",
       " WindowsPath('Messungen/Velofahren/Florin_Barbisch/Velöli_vom_bahnhof_hei-2023-02-23_17-30-57.json')]"
      ]
     },
     "execution_count": 32,
     "metadata": {},
     "output_type": "execute_result"
    }
   ],
   "source": [
    "from pathlib import Path\n",
    "from glob import glob\n",
    "\n",
    "pathsLaufen = [Path(p) for p in glob('Messungen/*/*/')]\n",
    "\n",
    "for path in pathsLaufen:\n",
    "    files = Path(path).glob('*.json') # get all csvs in your dir.\n",
    "    for file in files:\n",
    "        Laufen.append(file)\n",
    "\n",
    "Laufen"
   ]
  },
  {
   "cell_type": "code",
   "execution_count": null,
   "metadata": {},
   "outputs": [],
   "source": [
    "\"\""
   ]
  }
 ],
 "metadata": {
  "kernelspec": {
   "display_name": "Python 3",
   "language": "python",
   "name": "python3"
  },
  "language_info": {
   "codemirror_mode": {
    "name": "ipython",
    "version": 3
   },
   "file_extension": ".py",
   "mimetype": "text/x-python",
   "name": "python",
   "nbconvert_exporter": "python",
   "pygments_lexer": "ipython3",
   "version": "3.11.0"
  },
  "orig_nbformat": 4,
  "vscode": {
   "interpreter": {
    "hash": "c261aea317cc0286b3b3261fbba9abdec21eaa57589985bb7a274bf54d6cc0a7"
   }
  }
 },
 "nbformat": 4,
 "nbformat_minor": 2
}
