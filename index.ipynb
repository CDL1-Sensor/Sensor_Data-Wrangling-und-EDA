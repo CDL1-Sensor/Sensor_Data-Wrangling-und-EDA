{
 "cells": [
  {
   "cell_type": "code",
   "execution_count": null,
   "metadata": {},
   "outputs": [],
   "source": [
    "from data_ingestion.pipeline_manager import PipelineRunner as PipelineRunner \n",
    "from data_ingestion import utilities as util\n",
    "import tensorflow as tf\n",
    "import pathlib"
   ]
  },
  {
   "cell_type": "code",
   "execution_count": null,
   "metadata": {},
   "outputs": [],
   "source": [
    "\n",
    "\n",
    "path = \"Messungen\"\n",
    "pipeline = None\n",
    "origin = \"SensorLogger\"\n",
    "\n",
    "runner = PipelineRunner(path)\n",
    "runner.set_origin(origin)\n",
    "runner.set_pipeline(pipeline)\n",
    "data_from_run = runner.run()\n",
    "path: pathlib.Path = \"Export.arrow\"\n",
    "data_from_run.write_ipc(path)\n"
   ]
  },
  {
   "cell_type": "code",
   "execution_count": null,
   "metadata": {},
   "outputs": [],
   "source": [
    "# TESTING Type full typing of tensors\n",
    "\n",
    "A = util.State.to_numpy([\n",
    "    util.State(util.User.ETIENNE, util.Activity.SITZEN),\n",
    "    util.State(util.User.BEN, util.Activity.STEHEN),\n",
    "    util.State(util.User.LEA, util.Activity.LAUFEN),\n",
    "    util.State(util.User.FLORIN, util.Activity.RENNEN),\n",
    "    util.State(util.User.GABRIEL, util.Activity.FAHRRAD),\n",
    "    util.State(util.User.MANJAVY, util.Activity.TREPPENGEHEN),\n",
    "    util.State(util.User.OGNJEN, util.Activity.SITZEN),\n",
    "    util.State(util.User.TOBIAS, util.Activity.STEHEN),\n",
    "    util.State(util.User.WEIPING, util.Activity.LAUFEN),  \n",
    " ], batch=True)\n",
    "\n",
    "tf.convert_to_tensor(A)"
   ]
  }
 ],
 "metadata": {
  "kernelspec": {
   "display_name": "Python 3",
   "language": "python",
   "name": "python3"
  },
  "language_info": {
   "codemirror_mode": {
    "name": "ipython",
    "version": 3
   },
   "file_extension": ".py",
   "mimetype": "text/x-python",
   "name": "python",
   "nbconvert_exporter": "python",
   "pygments_lexer": "ipython3",
   "version": "3.10.4"
  },
  "orig_nbformat": 4,
  "vscode": {
   "interpreter": {
    "hash": "8694dcd111e9725103ddc0247dd1c242cb79780396b7b32d31c9c877428213b6"
   }
  }
 },
 "nbformat": 4,
 "nbformat_minor": 2
}
