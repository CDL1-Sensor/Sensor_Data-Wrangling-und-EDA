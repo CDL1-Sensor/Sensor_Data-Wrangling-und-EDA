{
 "cells": [
  {
   "cell_type": "code",
   "execution_count": 5,
   "metadata": {},
   "outputs": [],
   "source": [
    "from data_ingestion.pipeline_manager import PipelineRunner as PipelineRunner \n",
    "from data_ingestion import utilities as util\n",
    "import tensorflow as tf"
   ]
  },
  {
   "cell_type": "code",
   "execution_count": 6,
   "metadata": {},
   "outputs": [
    {
     "ename": "NameError",
     "evalue": "name 'Utilities' is not defined",
     "output_type": "error",
     "traceback": [
      "\u001b[0;31m---------------------------------------------------------------------------\u001b[0m",
      "\u001b[0;31mNameError\u001b[0m                                 Traceback (most recent call last)",
      "\u001b[1;32m/Users/etienne/Documents/GitHub/Sensor_Data-Wrangling-und-EDA/index.ipynb Cell 2\u001b[0m in \u001b[0;36m8\n\u001b[1;32m      <a href='vscode-notebook-cell:/Users/etienne/Documents/GitHub/Sensor_Data-Wrangling-und-EDA/index.ipynb#W3sZmlsZQ%3D%3D?line=5'>6</a>\u001b[0m manager\u001b[39m.\u001b[39mset_origin(origin)\n\u001b[1;32m      <a href='vscode-notebook-cell:/Users/etienne/Documents/GitHub/Sensor_Data-Wrangling-und-EDA/index.ipynb#W3sZmlsZQ%3D%3D?line=6'>7</a>\u001b[0m manager\u001b[39m.\u001b[39mset_pipeline(pipeline)\n\u001b[0;32m----> <a href='vscode-notebook-cell:/Users/etienne/Documents/GitHub/Sensor_Data-Wrangling-und-EDA/index.ipynb#W3sZmlsZQ%3D%3D?line=7'>8</a>\u001b[0m data_from_run \u001b[39m=\u001b[39m manager\u001b[39m.\u001b[39;49mrun()\n\u001b[1;32m      <a href='vscode-notebook-cell:/Users/etienne/Documents/GitHub/Sensor_Data-Wrangling-und-EDA/index.ipynb#W3sZmlsZQ%3D%3D?line=8'>9</a>\u001b[0m data_from_run\n",
      "File \u001b[0;32m~/Documents/GitHub/Sensor_Data-Wrangling-und-EDA/data_ingestion/pipeline_manager.py:22\u001b[0m, in \u001b[0;36mPipelineRunner.run\u001b[0;34m(self)\u001b[0m\n\u001b[1;32m     20\u001b[0m \u001b[39mdef\u001b[39;00m \u001b[39mrun\u001b[39m(\u001b[39mself\u001b[39m):\n\u001b[1;32m     21\u001b[0m     \u001b[39mif\u001b[39;00m \u001b[39mself\u001b[39m\u001b[39m.\u001b[39m__origin \u001b[39m==\u001b[39m \u001b[39m\"\u001b[39m\u001b[39mSensorLogger\u001b[39m\u001b[39m\"\u001b[39m:\n\u001b[0;32m---> 22\u001b[0m         utility \u001b[39m=\u001b[39m Utilities\u001b[39m.\u001b[39mSensorData(\u001b[39mself\u001b[39m\u001b[39m.\u001b[39mpath)\n\u001b[1;32m     23\u001b[0m         status \u001b[39m=\u001b[39m utility\u001b[39m.\u001b[39mset_data()\n\u001b[1;32m     24\u001b[0m         data \u001b[39m=\u001b[39m utility\u001b[39m.\u001b[39mget_data()\n",
      "\u001b[0;31mNameError\u001b[0m: name 'Utilities' is not defined"
     ]
    }
   ],
   "source": [
    "\n",
    "path = \"Messungen\"\n",
    "pipeline = None\n",
    "origin = \"SensorLogger\"\n",
    "\n",
    "manager = PipelineRunner(path)\n",
    "manager.set_origin(origin)\n",
    "manager.set_pipeline(pipeline)\n",
    "data_from_run = manager.run()\n",
    "data_from_run\n"
   ]
  },
  {
   "cell_type": "code",
   "execution_count": null,
   "metadata": {},
   "outputs": [
    {
     "data": {
      "text/plain": [
       "<tf.Tensor: shape=(9, 16), dtype=float32, numpy=\n",
       "array([[1., 0., 0., 0., 0., 0., 0., 0., 0., 0., 1., 0., 0., 0., 0., 0.],\n",
       "       [0., 1., 0., 0., 0., 0., 0., 0., 0., 0., 0., 1., 0., 0., 0., 0.],\n",
       "       [0., 0., 1., 0., 0., 0., 0., 0., 0., 0., 0., 0., 1., 0., 0., 0.],\n",
       "       [0., 0., 0., 1., 0., 0., 0., 0., 0., 0., 0., 0., 0., 1., 0., 0.],\n",
       "       [0., 0., 0., 0., 1., 0., 0., 0., 0., 0., 0., 0., 0., 0., 1., 0.],\n",
       "       [0., 0., 0., 0., 0., 1., 0., 0., 0., 0., 0., 0., 0., 0., 0., 1.],\n",
       "       [0., 0., 0., 0., 0., 0., 1., 0., 0., 0., 1., 0., 0., 0., 0., 0.],\n",
       "       [0., 0., 0., 0., 0., 0., 0., 1., 0., 0., 0., 1., 0., 0., 0., 0.],\n",
       "       [0., 0., 0., 0., 0., 0., 0., 0., 1., 0., 0., 0., 1., 0., 0., 0.]],\n",
       "      dtype=float32)>"
      ]
     },
     "execution_count": 3,
     "metadata": {},
     "output_type": "execute_result"
    }
   ],
   "source": [
    "# TESTING Type full typing of tensors\n",
    "\n",
    "A = util.State.to_numpy([\n",
    "    util.State(util.User.ETIENNE, util.Activity.SITZEN),\n",
    "    util.State(util.User.BEN, util.Activity.STEHEN),\n",
    "    util.State(util.User.LEA, util.Activity.LAUFEN),\n",
    "    util.State(util.User.FLORIN, util.Activity.RENNEN),\n",
    "    util.State(util.User.GABRIEL, util.Activity.FAHRRAD),\n",
    "    util.State(util.User.MANJAVY, util.Activity.TREPPENGEHEN),\n",
    "    util.State(util.User.OGNJEN, util.Activity.SITZEN),\n",
    "    util.State(util.User.TOBIAS, util.Activity.STEHEN),\n",
    "    util.State(util.User.WEIPING, util.Activity.LAUFEN),  \n",
    " ], batch=True)\n",
    "\n",
    "tf.convert_to_tensor(A)"
   ]
  }
 ],
 "metadata": {
  "kernelspec": {
   "display_name": "Python 3",
   "language": "python",
   "name": "python3"
  },
  "language_info": {
   "codemirror_mode": {
    "name": "ipython",
    "version": 3
   },
   "file_extension": ".py",
   "mimetype": "text/x-python",
   "name": "python",
   "nbconvert_exporter": "python",
   "pygments_lexer": "ipython3",
   "version": "3.10.7"
  },
  "orig_nbformat": 4,
  "vscode": {
   "interpreter": {
    "hash": "b0fa6594d8f4cbf19f97940f81e996739fb7646882a419484c72d19e05852a7e"
   }
  }
 },
 "nbformat": 4,
 "nbformat_minor": 2
}
