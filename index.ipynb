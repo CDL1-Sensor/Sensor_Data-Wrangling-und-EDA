{
 "cells": [
  {
   "cell_type": "code",
   "execution_count": 2,
   "metadata": {},
   "outputs": [
    {
     "ename": "ImportError",
     "evalue": "cannot import name 'utilities' from 'data_ingestion' (unknown location)",
     "output_type": "error",
     "traceback": [
      "\u001b[1;31m---------------------------------------------------------------------------\u001b[0m",
      "\u001b[1;31mImportError\u001b[0m                               Traceback (most recent call last)",
      "\u001b[1;32mc:\\Users\\roeti\\OneDrive - Coop Genossenschaft\\Dokumente\\GitHub\\Sensor_Data-Wrangling-und-EDA\\index.ipynb Cell 1\u001b[0m in \u001b[0;36m<cell line: 1>\u001b[1;34m()\u001b[0m\n\u001b[1;32m----> <a href='vscode-notebook-cell:/c%3A/Users/roeti/OneDrive%20-%20Coop%20Genossenschaft/Dokumente/GitHub/Sensor_Data-Wrangling-und-EDA/index.ipynb#W0sZmlsZQ%3D%3D?line=0'>1</a>\u001b[0m \u001b[39mfrom\u001b[39;00m \u001b[39mdata_ingestion\u001b[39;00m\u001b[39m.\u001b[39;00m\u001b[39mpipeline_manager\u001b[39;00m \u001b[39mimport\u001b[39;00m PipelineRunner \u001b[39mas\u001b[39;00m PipelineRunner \n\u001b[0;32m      <a href='vscode-notebook-cell:/c%3A/Users/roeti/OneDrive%20-%20Coop%20Genossenschaft/Dokumente/GitHub/Sensor_Data-Wrangling-und-EDA/index.ipynb#W0sZmlsZQ%3D%3D?line=1'>2</a>\u001b[0m \u001b[39mfrom\u001b[39;00m \u001b[39mdata_ingestion\u001b[39;00m \u001b[39mimport\u001b[39;00m Utilities \u001b[39mas\u001b[39;00m util\n\u001b[0;32m      <a href='vscode-notebook-cell:/c%3A/Users/roeti/OneDrive%20-%20Coop%20Genossenschaft/Dokumente/GitHub/Sensor_Data-Wrangling-und-EDA/index.ipynb#W0sZmlsZQ%3D%3D?line=2'>3</a>\u001b[0m \u001b[39mimport\u001b[39;00m \u001b[39mtensorflow\u001b[39;00m \u001b[39mas\u001b[39;00m \u001b[39mtf\u001b[39;00m\n",
      "File \u001b[1;32mc:\\Users\\roeti\\OneDrive - Coop Genossenschaft\\Dokumente\\GitHub\\Sensor_Data-Wrangling-und-EDA\\data_ingestion\\pipeline_manager.py:1\u001b[0m, in \u001b[0;36m<module>\u001b[1;34m\u001b[0m\n\u001b[1;32m----> 1\u001b[0m \u001b[39mfrom\u001b[39;00m \u001b[39m.\u001b[39;00m \u001b[39mimport\u001b[39;00m utilities\n\u001b[0;32m      4\u001b[0m \u001b[39mclass\u001b[39;00m \u001b[39mPipelineRunner\u001b[39;00m:\n\u001b[0;32m      5\u001b[0m     __origin: \u001b[39mstr\u001b[39m \u001b[39m=\u001b[39m \u001b[39mNone\u001b[39;00m\n",
      "\u001b[1;31mImportError\u001b[0m: cannot import name 'utilities' from 'data_ingestion' (unknown location)"
     ]
    }
   ],
   "source": [
    "from data_ingestion.pipeline_manager import PipelineRunner as PipelineRunner \n",
    "from data_ingestion import utilities as util\n",
    "import tensorflow as tf\n",
    "import pathlib"
   ]
  },
  {
   "cell_type": "code",
   "execution_count": 2,
   "metadata": {},
   "outputs": [
    {
     "data": {
      "application/vnd.jupyter.widget-view+json": {
       "model_id": "6aef17156903431bb350bcc34e1fe942",
       "version_major": 2,
       "version_minor": 0
      },
      "text/plain": [
       "Read Files:   0%|          | 0/131 [00:00<?, ?files/s]"
      ]
     },
     "metadata": {},
     "output_type": "display_data"
    },
    {
     "name": "stdout",
     "output_type": "stream",
     "text": [
      "503 Messungen\\Laufen\\Ben_Tran\\01_SamsungA22-2023-02-27_15-02-03.json: Arithmetic on string and numeric not allowed. Try an explicit cast first.\n",
      "503 Messungen\\Laufen\\Ben_Tran\\02_SamsungA22-2023-02-28_09-10-35.json: Arithmetic on string and numeric not allowed. Try an explicit cast first.\n",
      "503 Messungen\\Laufen\\Ben_Tran\\03_SamsungA22-2023-02-28_09-15-11.json: Arithmetic on string and numeric not allowed. Try an explicit cast first.\n",
      "503 Messungen\\Laufen\\Ben_Tran\\04-SamsungA22-2023-03-01_09-19-34.json: Arithmetic on string and numeric not allowed. Try an explicit cast first.\n",
      "503 Messungen\\Laufen\\Ben_Tran\\05-SamsungA22-2023-03-01_16-12-51.json: Arithmetic on string and numeric not allowed. Try an explicit cast first.\n",
      "503 Messungen\\Laufen\\Ben_Tran\\06-SamsungA22-2023-03-01_16-23-14.json: Arithmetic on string and numeric not allowed. Try an explicit cast first.\n",
      "503 Messungen\\Laufen\\Ben_Tran\\07-SamsungA22-2023-03-01_16-52-52.json: Arithmetic on string and numeric not allowed. Try an explicit cast first.\n",
      "503 Messungen\\Laufen\\Ben_Tran\\08_SamsungA22-2023-03-02_09-29-34.json: Arithmetic on string and numeric not allowed. Try an explicit cast first.\n",
      "503 Messungen\\Laufen\\Gabriel_Torres\\01_iPhone13ProMax-2023-02-23_17-00-29.json: Arithmetic on string and numeric not allowed. Try an explicit cast first.\n",
      "503 Messungen\\Laufen\\Gabriel_Torres\\02_iPhone13ProMax-2023-02-24_13-13-16.json: Arithmetic on string and numeric not allowed. Try an explicit cast first.\n",
      "503 Messungen\\Laufen\\Manjavy_Kirupa\\01_iPhone12-2023-02-28_16-28-33.json: Arithmetic on string and numeric not allowed. Try an explicit cast first.\n"
     ]
    },
    {
     "ename": "KeyboardInterrupt",
     "evalue": "",
     "output_type": "error",
     "traceback": [
      "\u001b[1;31m---------------------------------------------------------------------------\u001b[0m",
      "\u001b[1;31mKeyboardInterrupt\u001b[0m                         Traceback (most recent call last)",
      "\u001b[1;32mc:\\Users\\roeti\\OneDrive - Coop Genossenschaft\\Dokumente\\GitHub\\Sensor_Data-Wrangling-und-EDA\\index.ipynb Cell 2\u001b[0m in \u001b[0;36m<cell line: 8>\u001b[1;34m()\u001b[0m\n\u001b[0;32m      <a href='vscode-notebook-cell:/c%3A/Users/roeti/OneDrive%20-%20Coop%20Genossenschaft/Dokumente/GitHub/Sensor_Data-Wrangling-und-EDA/index.ipynb#W1sZmlsZQ%3D%3D?line=5'>6</a>\u001b[0m runner\u001b[39m.\u001b[39mset_origin(origin)\n\u001b[0;32m      <a href='vscode-notebook-cell:/c%3A/Users/roeti/OneDrive%20-%20Coop%20Genossenschaft/Dokumente/GitHub/Sensor_Data-Wrangling-und-EDA/index.ipynb#W1sZmlsZQ%3D%3D?line=6'>7</a>\u001b[0m runner\u001b[39m.\u001b[39mset_pipeline(pipeline)\n\u001b[1;32m----> <a href='vscode-notebook-cell:/c%3A/Users/roeti/OneDrive%20-%20Coop%20Genossenschaft/Dokumente/GitHub/Sensor_Data-Wrangling-und-EDA/index.ipynb#W1sZmlsZQ%3D%3D?line=7'>8</a>\u001b[0m data_from_run \u001b[39m=\u001b[39m runner\u001b[39m.\u001b[39;49mrun()\n\u001b[0;32m      <a href='vscode-notebook-cell:/c%3A/Users/roeti/OneDrive%20-%20Coop%20Genossenschaft/Dokumente/GitHub/Sensor_Data-Wrangling-und-EDA/index.ipynb#W1sZmlsZQ%3D%3D?line=8'>9</a>\u001b[0m path: pathlib\u001b[39m.\u001b[39mPath \u001b[39m=\u001b[39m \u001b[39m\"\u001b[39m\u001b[39mExport.arrow\u001b[39m\u001b[39m\"\u001b[39m\n\u001b[0;32m     <a href='vscode-notebook-cell:/c%3A/Users/roeti/OneDrive%20-%20Coop%20Genossenschaft/Dokumente/GitHub/Sensor_Data-Wrangling-und-EDA/index.ipynb#W1sZmlsZQ%3D%3D?line=9'>10</a>\u001b[0m data_from_run\u001b[39m.\u001b[39mwrite_ipc(path)\n",
      "File \u001b[1;32mc:\\Users\\roeti\\OneDrive - Coop Genossenschaft\\Dokumente\\GitHub\\Sensor_Data-Wrangling-und-EDA\\data_ingestion\\pipeline_manager.py:23\u001b[0m, in \u001b[0;36mPipelineRunner.run\u001b[1;34m(self)\u001b[0m\n\u001b[0;32m     21\u001b[0m \u001b[39mif\u001b[39;00m \u001b[39mself\u001b[39m\u001b[39m.\u001b[39m__origin \u001b[39m==\u001b[39m \u001b[39m\"\u001b[39m\u001b[39mSensorLogger\u001b[39m\u001b[39m\"\u001b[39m:\n\u001b[0;32m     22\u001b[0m     utility \u001b[39m=\u001b[39m utilities\u001b[39m.\u001b[39mSensorData(\u001b[39mself\u001b[39m\u001b[39m.\u001b[39mpath)\n\u001b[1;32m---> 23\u001b[0m     status \u001b[39m=\u001b[39m utility\u001b[39m.\u001b[39;49mset_data()\n\u001b[0;32m     24\u001b[0m     data \u001b[39m=\u001b[39m utility\u001b[39m.\u001b[39mget_data()\n\u001b[0;32m     26\u001b[0m \u001b[39m# return data\u001b[39;00m\n",
      "File \u001b[1;32mc:\\Users\\roeti\\OneDrive - Coop Genossenschaft\\Dokumente\\GitHub\\Sensor_Data-Wrangling-und-EDA\\data_ingestion\\utilities.py:66\u001b[0m, in \u001b[0;36mSensorData.set_data\u001b[1;34m(self)\u001b[0m\n\u001b[0;32m     60\u001b[0m \u001b[39mfor\u001b[39;00m file \u001b[39min\u001b[39;00m tqdm(\n\u001b[0;32m     61\u001b[0m     files,\n\u001b[0;32m     62\u001b[0m     desc\u001b[39m=\u001b[39m\u001b[39m\"\u001b[39m\u001b[39mRead Files\u001b[39m\u001b[39m\"\u001b[39m,\n\u001b[0;32m     63\u001b[0m     unit\u001b[39m=\u001b[39m\u001b[39m\"\u001b[39m\u001b[39mfiles\u001b[39m\u001b[39m\"\u001b[39m,\n\u001b[0;32m     64\u001b[0m ):\n\u001b[0;32m     65\u001b[0m     \u001b[39mtry\u001b[39;00m:\n\u001b[1;32m---> 66\u001b[0m         bootstraping \u001b[39m=\u001b[39m pl\u001b[39m.\u001b[39;49mread_json(file)\n\u001b[0;32m     67\u001b[0m         bootstraping \u001b[39m=\u001b[39m bootstraping\u001b[39m.\u001b[39mfill_null(value\u001b[39m=\u001b[39mnp\u001b[39m.\u001b[39mnan)\n\u001b[0;32m     68\u001b[0m         bootstraping \u001b[39m=\u001b[39m bootstraping\u001b[39m.\u001b[39mmelt(id_vars\u001b[39m=\u001b[39m[\u001b[39m\"\u001b[39m\u001b[39mtime\u001b[39m\u001b[39m\"\u001b[39m, \u001b[39m\"\u001b[39m\u001b[39msensor\u001b[39m\u001b[39m\"\u001b[39m])\n",
      "File \u001b[1;32mc:\\Users\\roeti\\AppData\\Local\\Programs\\Python\\Python310\\lib\\site-packages\\polars\\io.py:1022\u001b[0m, in \u001b[0;36mread_json\u001b[1;34m(file)\u001b[0m\n\u001b[0;32m   1008\u001b[0m \u001b[39mdef\u001b[39;00m \u001b[39mread_json\u001b[39m(file: \u001b[39mstr\u001b[39m \u001b[39m|\u001b[39m Path \u001b[39m|\u001b[39m IOBase) \u001b[39m-\u001b[39m\u001b[39m>\u001b[39m DataFrame:\n\u001b[0;32m   1009\u001b[0m     \u001b[39m\"\"\"\u001b[39;00m\n\u001b[0;32m   1010\u001b[0m \u001b[39m    Read into a DataFrame from a JSON file.\u001b[39;00m\n\u001b[0;32m   1011\u001b[0m \n\u001b[1;32m   (...)\u001b[0m\n\u001b[0;32m   1020\u001b[0m \n\u001b[0;32m   1021\u001b[0m \u001b[39m    \"\"\"\u001b[39;00m\n\u001b[1;32m-> 1022\u001b[0m     \u001b[39mreturn\u001b[39;00m DataFrame\u001b[39m.\u001b[39;49m_read_json(file)\n",
      "\u001b[1;31mKeyboardInterrupt\u001b[0m: "
     ]
    }
   ],
   "source": [
    "\n",
    "\n",
    "path = \"Messungen\"\n",
    "pipeline = None\n",
    "origin = \"SensorLogger\"\n",
    "\n",
    "runner = PipelineRunner(path)\n",
    "runner.set_origin(origin)\n",
    "runner.set_pipeline(pipeline)\n",
    "data_from_run = runner.run()\n",
    "path: pathlib.Path = \"Export.arrow\"\n",
    "data_from_run.write_ipc(path)\n"
   ]
  },
  {
   "cell_type": "code",
   "execution_count": 3,
   "metadata": {},
   "outputs": [
    {
     "data": {
      "text/plain": [
       "<tf.Tensor: shape=(9, 16), dtype=float32, numpy=\n",
       "array([[1., 0., 0., 0., 0., 0., 0., 0., 0., 0., 1., 0., 0., 0., 0., 0.],\n",
       "       [0., 1., 0., 0., 0., 0., 0., 0., 0., 0., 0., 1., 0., 0., 0., 0.],\n",
       "       [0., 0., 1., 0., 0., 0., 0., 0., 0., 0., 0., 0., 1., 0., 0., 0.],\n",
       "       [0., 0., 0., 1., 0., 0., 0., 0., 0., 0., 0., 0., 0., 1., 0., 0.],\n",
       "       [0., 0., 0., 0., 1., 0., 0., 0., 0., 0., 0., 0., 0., 0., 1., 0.],\n",
       "       [0., 0., 0., 0., 0., 1., 0., 0., 0., 0., 0., 0., 0., 0., 0., 1.],\n",
       "       [0., 0., 0., 0., 0., 0., 1., 0., 0., 0., 1., 0., 0., 0., 0., 0.],\n",
       "       [0., 0., 0., 0., 0., 0., 0., 1., 0., 0., 0., 1., 0., 0., 0., 0.],\n",
       "       [0., 0., 0., 0., 0., 0., 0., 0., 1., 0., 0., 0., 1., 0., 0., 0.]],\n",
       "      dtype=float32)>"
      ]
     },
     "execution_count": 3,
     "metadata": {},
     "output_type": "execute_result"
    }
   ],
   "source": [
    "# TESTING Type full typing of tensors\n",
    "\n",
    "A = util.State.to_numpy([\n",
    "    util.State(util.User.ETIENNE, util.Activity.SITZEN),\n",
    "    util.State(util.User.BEN, util.Activity.STEHEN),\n",
    "    util.State(util.User.LEA, util.Activity.LAUFEN),\n",
    "    util.State(util.User.FLORIN, util.Activity.RENNEN),\n",
    "    util.State(util.User.GABRIEL, util.Activity.FAHRRAD),\n",
    "    util.State(util.User.MANJAVY, util.Activity.TREPPENGEHEN),\n",
    "    util.State(util.User.OGNJEN, util.Activity.SITZEN),\n",
    "    util.State(util.User.TOBIAS, util.Activity.STEHEN),\n",
    "    util.State(util.User.WEIPING, util.Activity.LAUFEN),  \n",
    " ], batch=True)\n",
    "\n",
    "tf.convert_to_tensor(A)"
   ]
  }
 ],
 "metadata": {
  "kernelspec": {
   "display_name": "Python 3",
   "language": "python",
   "name": "python3"
  },
  "language_info": {
   "codemirror_mode": {
    "name": "ipython",
    "version": 3
   },
   "file_extension": ".py",
   "mimetype": "text/x-python",
   "name": "python",
   "nbconvert_exporter": "python",
   "pygments_lexer": "ipython3",
   "version": "3.10.4"
  },
  "orig_nbformat": 4,
  "vscode": {
   "interpreter": {
    "hash": "8694dcd111e9725103ddc0247dd1c242cb79780396b7b32d31c9c877428213b6"
   }
  }
 },
 "nbformat": 4,
 "nbformat_minor": 2
}
