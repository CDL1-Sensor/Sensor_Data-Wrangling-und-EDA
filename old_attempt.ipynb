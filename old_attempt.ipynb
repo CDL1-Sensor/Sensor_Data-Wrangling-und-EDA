{
 "cells": [
  {
   "cell_type": "code",
   "execution_count": 54,
   "metadata": {},
   "outputs": [],
   "source": [
    "SUCCESS = '0001'\n",
    "ERROR = '0004'"
   ]
  },
  {
   "cell_type": "code",
   "execution_count": 1,
   "metadata": {},
   "outputs": [],
   "source": [
    "# convert none jason like zip files and csv to json\n",
    "def convert_to_json(file_name):\n",
    "    with open(file_name, 'r') as f:\n",
    "        data = f.readlines()\n",
    "        data = map(lambda x: x.rstrip(), data)\n",
    "        data_json = \"[\" + ','.join(data) + \"]\"\n",
    "        return data_json"
   ]
  },
  {
   "cell_type": "code",
   "execution_count": 55,
   "metadata": {},
   "outputs": [],
   "source": [
    "# todo \n",
    "import zipfile\n",
    "import os\n",
    "def convert_zip_of_csv_to_json(to_unpack, to_path, filenumber):\n",
    "    with zipfile.ZipFile(to_unpack, 'r') as zip_ref:\n",
    "        zip_ref.extractall('temp_csv\\\\' + to_path + '\\\\' +  filenumber)\n",
    "    return SUCCESS"
   ]
  },
  {
   "cell_type": "code",
   "execution_count": 165,
   "metadata": {},
   "outputs": [],
   "source": [
    "from pathlib import Path\n",
    "import pandas as pd\n",
    "\n",
    "def convert_multiple_csv_to_json(path):\n",
    "    DIRECTORY = path\n",
    "    files = Path(DIRECTORY).glob('*.csv') # to process files only in this dir\n",
    "    print(files)\n",
    "    for f in files:\n",
    "        if (\"Annotation\" in f):\n",
    "            continue\n",
    "        print(f)\n",
    "        pd.read_csv(f) # use .with_suffix() for safe name generation"
   ]
  },
  {
   "cell_type": "code",
   "execution_count": 160,
   "metadata": {},
   "outputs": [],
   "source": [
    "def convert_temp_csv_to_json():\n",
    "    for (dirpath, dirnames, filenames) in walk(\"temp_csv\\\\Messungen\"):\n",
    "        if (dirpath.count('\\\\') == 3):\n",
    "            if ('Laufen' in dirpath):\n",
    "                for dirname in dirnames:\n",
    "                    with open(dirpath[9:] + \"\\\\\" +dirname + '.json', 'w') as outfile:\n",
    "                        convert_multiple_csv_to_json(dirpath + '\\\\' + dirname)\n",
    "                        outfile.write(json_string)\n",
    "            elif ('Sitzen' in dirpath):\n",
    "                for dirname in dirnames:\n",
    "                    with open(dirpath[9:] + \"\\\\\" +dirname + '.json', 'w') as outfile:\n",
    "                        convert_multiple_csv_to_json(dirpath + '\\\\' + dirname)\n",
    "                        outfile.write(json_string)\n",
    "\n",
    "            elif('Stehen' in dirpath):\n",
    "                for dirname in dirnames:\n",
    "                    with open(dirpath[9:] + \"\\\\\" +dirname + '.json', 'w') as outfile:\n",
    "                        convert_multiple_csv_to_json(dirpath + '\\\\' + dirname)\n",
    "                        outfile.write(json_string)\n",
    "            elif('Rennen' in dirpath):\n",
    "                for dirname in dirnames:\n",
    "                    with open(dirpath[9:] + \"\\\\\" +dirname + '.json', 'w') as outfile:\n",
    "                        outfile.write(json_string)\n",
    "            elif('Velofahren' in dirpath):\n",
    "                for dirname in dirnames:\n",
    "                    with open(dirpath[9:] + \"\\\\\" +dirname + '.json', 'w') as outfile:\n",
    "                        outfile.write(json_string)\n",
    "            elif('Treppenlaufen' in dirpath):\n",
    "                for dirname in dirnames:\n",
    "                    with open(dirpath[9:] + \"\\\\\" +dirname + '.json', 'w') as outfile:\n",
    "                        outfile.write(json_string)"
   ]
  },
  {
   "cell_type": "code",
   "execution_count": 166,
   "metadata": {},
   "outputs": [
    {
     "name": "stdout",
     "output_type": "stream",
     "text": [
      "<generator object Path.glob at 0x0000021C0E2EDFC0>\n",
      "temp_csv\\Messungen\\Laufen\\Florin_Barbisch\\01_Pixel6-2023-02-24_17-31-22\\Accelerometer.csv\n",
      "temp_csv\\Messungen\\Laufen\\Florin_Barbisch\\01_Pixel6-2023-02-24_17-31-22\\AccelerometerUncalibrated.csv\n",
      "temp_csv\\Messungen\\Laufen\\Florin_Barbisch\\01_Pixel6-2023-02-24_17-31-22\\Annotation.csv\n"
     ]
    },
    {
     "ename": "EmptyDataError",
     "evalue": "No columns to parse from file",
     "output_type": "error",
     "traceback": [
      "\u001b[1;31m---------------------------------------------------------------------------\u001b[0m",
      "\u001b[1;31mEmptyDataError\u001b[0m                            Traceback (most recent call last)",
      "Cell \u001b[1;32mIn[166], line 44\u001b[0m\n\u001b[0;32m     41\u001b[0m             \u001b[39mfor\u001b[39;00m filename \u001b[39min\u001b[39;00m filenames:\n\u001b[0;32m     42\u001b[0m                 Treppenlaufen\u001b[39m.\u001b[39mappend(dirpath \u001b[39m+\u001b[39m \u001b[39m'\u001b[39m\u001b[39m\\\\\u001b[39;00m\u001b[39m'\u001b[39m \u001b[39m+\u001b[39mfilename)\n\u001b[1;32m---> 44\u001b[0m convert_temp_csv_to_json()\n",
      "Cell \u001b[1;32mIn[160], line 7\u001b[0m, in \u001b[0;36mconvert_temp_csv_to_json\u001b[1;34m()\u001b[0m\n\u001b[0;32m      5\u001b[0m     \u001b[39mfor\u001b[39;00m dirname \u001b[39min\u001b[39;00m dirnames:\n\u001b[0;32m      6\u001b[0m         \u001b[39mwith\u001b[39;00m \u001b[39mopen\u001b[39m(dirpath[\u001b[39m9\u001b[39m:] \u001b[39m+\u001b[39m \u001b[39m\"\u001b[39m\u001b[39m\\\\\u001b[39;00m\u001b[39m\"\u001b[39m \u001b[39m+\u001b[39mdirname \u001b[39m+\u001b[39m \u001b[39m'\u001b[39m\u001b[39m.json\u001b[39m\u001b[39m'\u001b[39m, \u001b[39m'\u001b[39m\u001b[39mw\u001b[39m\u001b[39m'\u001b[39m) \u001b[39mas\u001b[39;00m outfile:\n\u001b[1;32m----> 7\u001b[0m             convert_multiple_csv_to_json(dirpath \u001b[39m+\u001b[39;49m \u001b[39m'\u001b[39;49m\u001b[39m\\\\\u001b[39;49;00m\u001b[39m'\u001b[39;49m \u001b[39m+\u001b[39;49m dirname)\n\u001b[0;32m      8\u001b[0m             outfile\u001b[39m.\u001b[39mwrite(json_string)\n\u001b[0;32m      9\u001b[0m \u001b[39melif\u001b[39;00m (\u001b[39m'\u001b[39m\u001b[39mSitzen\u001b[39m\u001b[39m'\u001b[39m \u001b[39min\u001b[39;00m dirpath):\n",
      "Cell \u001b[1;32mIn[165], line 10\u001b[0m, in \u001b[0;36mconvert_multiple_csv_to_json\u001b[1;34m(path)\u001b[0m\n\u001b[0;32m      8\u001b[0m \u001b[39mfor\u001b[39;00m f \u001b[39min\u001b[39;00m files:\n\u001b[0;32m      9\u001b[0m     \u001b[39mprint\u001b[39m(f)\n\u001b[1;32m---> 10\u001b[0m     pd\u001b[39m.\u001b[39;49mread_csv(f)\n",
      "File \u001b[1;32mc:\\Users\\super\\AppData\\Local\\Programs\\Python\\Python310\\lib\\site-packages\\pandas\\util\\_decorators.py:211\u001b[0m, in \u001b[0;36mdeprecate_kwarg.<locals>._deprecate_kwarg.<locals>.wrapper\u001b[1;34m(*args, **kwargs)\u001b[0m\n\u001b[0;32m    209\u001b[0m     \u001b[39melse\u001b[39;00m:\n\u001b[0;32m    210\u001b[0m         kwargs[new_arg_name] \u001b[39m=\u001b[39m new_arg_value\n\u001b[1;32m--> 211\u001b[0m \u001b[39mreturn\u001b[39;00m func(\u001b[39m*\u001b[39margs, \u001b[39m*\u001b[39m\u001b[39m*\u001b[39mkwargs)\n",
      "File \u001b[1;32mc:\\Users\\super\\AppData\\Local\\Programs\\Python\\Python310\\lib\\site-packages\\pandas\\util\\_decorators.py:331\u001b[0m, in \u001b[0;36mdeprecate_nonkeyword_arguments.<locals>.decorate.<locals>.wrapper\u001b[1;34m(*args, **kwargs)\u001b[0m\n\u001b[0;32m    325\u001b[0m \u001b[39mif\u001b[39;00m \u001b[39mlen\u001b[39m(args) \u001b[39m>\u001b[39m num_allow_args:\n\u001b[0;32m    326\u001b[0m     warnings\u001b[39m.\u001b[39mwarn(\n\u001b[0;32m    327\u001b[0m         msg\u001b[39m.\u001b[39mformat(arguments\u001b[39m=\u001b[39m_format_argument_list(allow_args)),\n\u001b[0;32m    328\u001b[0m         \u001b[39mFutureWarning\u001b[39;00m,\n\u001b[0;32m    329\u001b[0m         stacklevel\u001b[39m=\u001b[39mfind_stack_level(),\n\u001b[0;32m    330\u001b[0m     )\n\u001b[1;32m--> 331\u001b[0m \u001b[39mreturn\u001b[39;00m func(\u001b[39m*\u001b[39margs, \u001b[39m*\u001b[39m\u001b[39m*\u001b[39mkwargs)\n",
      "File \u001b[1;32mc:\\Users\\super\\AppData\\Local\\Programs\\Python\\Python310\\lib\\site-packages\\pandas\\io\\parsers\\readers.py:950\u001b[0m, in \u001b[0;36mread_csv\u001b[1;34m(filepath_or_buffer, sep, delimiter, header, names, index_col, usecols, squeeze, prefix, mangle_dupe_cols, dtype, engine, converters, true_values, false_values, skipinitialspace, skiprows, skipfooter, nrows, na_values, keep_default_na, na_filter, verbose, skip_blank_lines, parse_dates, infer_datetime_format, keep_date_col, date_parser, dayfirst, cache_dates, iterator, chunksize, compression, thousands, decimal, lineterminator, quotechar, quoting, doublequote, escapechar, comment, encoding, encoding_errors, dialect, error_bad_lines, warn_bad_lines, on_bad_lines, delim_whitespace, low_memory, memory_map, float_precision, storage_options)\u001b[0m\n\u001b[0;32m    935\u001b[0m kwds_defaults \u001b[39m=\u001b[39m _refine_defaults_read(\n\u001b[0;32m    936\u001b[0m     dialect,\n\u001b[0;32m    937\u001b[0m     delimiter,\n\u001b[1;32m   (...)\u001b[0m\n\u001b[0;32m    946\u001b[0m     defaults\u001b[39m=\u001b[39m{\u001b[39m\"\u001b[39m\u001b[39mdelimiter\u001b[39m\u001b[39m\"\u001b[39m: \u001b[39m\"\u001b[39m\u001b[39m,\u001b[39m\u001b[39m\"\u001b[39m},\n\u001b[0;32m    947\u001b[0m )\n\u001b[0;32m    948\u001b[0m kwds\u001b[39m.\u001b[39mupdate(kwds_defaults)\n\u001b[1;32m--> 950\u001b[0m \u001b[39mreturn\u001b[39;00m _read(filepath_or_buffer, kwds)\n",
      "File \u001b[1;32mc:\\Users\\super\\AppData\\Local\\Programs\\Python\\Python310\\lib\\site-packages\\pandas\\io\\parsers\\readers.py:605\u001b[0m, in \u001b[0;36m_read\u001b[1;34m(filepath_or_buffer, kwds)\u001b[0m\n\u001b[0;32m    602\u001b[0m _validate_names(kwds\u001b[39m.\u001b[39mget(\u001b[39m\"\u001b[39m\u001b[39mnames\u001b[39m\u001b[39m\"\u001b[39m, \u001b[39mNone\u001b[39;00m))\n\u001b[0;32m    604\u001b[0m \u001b[39m# Create the parser.\u001b[39;00m\n\u001b[1;32m--> 605\u001b[0m parser \u001b[39m=\u001b[39m TextFileReader(filepath_or_buffer, \u001b[39m*\u001b[39m\u001b[39m*\u001b[39mkwds)\n\u001b[0;32m    607\u001b[0m \u001b[39mif\u001b[39;00m chunksize \u001b[39mor\u001b[39;00m iterator:\n\u001b[0;32m    608\u001b[0m     \u001b[39mreturn\u001b[39;00m parser\n",
      "File \u001b[1;32mc:\\Users\\super\\AppData\\Local\\Programs\\Python\\Python310\\lib\\site-packages\\pandas\\io\\parsers\\readers.py:1442\u001b[0m, in \u001b[0;36mTextFileReader.__init__\u001b[1;34m(self, f, engine, **kwds)\u001b[0m\n\u001b[0;32m   1439\u001b[0m     \u001b[39mself\u001b[39m\u001b[39m.\u001b[39moptions[\u001b[39m\"\u001b[39m\u001b[39mhas_index_names\u001b[39m\u001b[39m\"\u001b[39m] \u001b[39m=\u001b[39m kwds[\u001b[39m\"\u001b[39m\u001b[39mhas_index_names\u001b[39m\u001b[39m\"\u001b[39m]\n\u001b[0;32m   1441\u001b[0m \u001b[39mself\u001b[39m\u001b[39m.\u001b[39mhandles: IOHandles \u001b[39m|\u001b[39m \u001b[39mNone\u001b[39;00m \u001b[39m=\u001b[39m \u001b[39mNone\u001b[39;00m\n\u001b[1;32m-> 1442\u001b[0m \u001b[39mself\u001b[39m\u001b[39m.\u001b[39m_engine \u001b[39m=\u001b[39m \u001b[39mself\u001b[39;49m\u001b[39m.\u001b[39;49m_make_engine(f, \u001b[39mself\u001b[39;49m\u001b[39m.\u001b[39;49mengine)\n",
      "File \u001b[1;32mc:\\Users\\super\\AppData\\Local\\Programs\\Python\\Python310\\lib\\site-packages\\pandas\\io\\parsers\\readers.py:1753\u001b[0m, in \u001b[0;36mTextFileReader._make_engine\u001b[1;34m(self, f, engine)\u001b[0m\n\u001b[0;32m   1750\u001b[0m     \u001b[39mraise\u001b[39;00m \u001b[39mValueError\u001b[39;00m(msg)\n\u001b[0;32m   1752\u001b[0m \u001b[39mtry\u001b[39;00m:\n\u001b[1;32m-> 1753\u001b[0m     \u001b[39mreturn\u001b[39;00m mapping[engine](f, \u001b[39m*\u001b[39m\u001b[39m*\u001b[39m\u001b[39mself\u001b[39m\u001b[39m.\u001b[39moptions)\n\u001b[0;32m   1754\u001b[0m \u001b[39mexcept\u001b[39;00m \u001b[39mException\u001b[39;00m:\n\u001b[0;32m   1755\u001b[0m     \u001b[39mif\u001b[39;00m \u001b[39mself\u001b[39m\u001b[39m.\u001b[39mhandles \u001b[39mis\u001b[39;00m \u001b[39mnot\u001b[39;00m \u001b[39mNone\u001b[39;00m:\n",
      "File \u001b[1;32mc:\\Users\\super\\AppData\\Local\\Programs\\Python\\Python310\\lib\\site-packages\\pandas\\io\\parsers\\c_parser_wrapper.py:79\u001b[0m, in \u001b[0;36mCParserWrapper.__init__\u001b[1;34m(self, src, **kwds)\u001b[0m\n\u001b[0;32m     76\u001b[0m     kwds\u001b[39m.\u001b[39mpop(key, \u001b[39mNone\u001b[39;00m)\n\u001b[0;32m     78\u001b[0m kwds[\u001b[39m\"\u001b[39m\u001b[39mdtype\u001b[39m\u001b[39m\"\u001b[39m] \u001b[39m=\u001b[39m ensure_dtype_objs(kwds\u001b[39m.\u001b[39mget(\u001b[39m\"\u001b[39m\u001b[39mdtype\u001b[39m\u001b[39m\"\u001b[39m, \u001b[39mNone\u001b[39;00m))\n\u001b[1;32m---> 79\u001b[0m \u001b[39mself\u001b[39m\u001b[39m.\u001b[39m_reader \u001b[39m=\u001b[39m parsers\u001b[39m.\u001b[39mTextReader(src, \u001b[39m*\u001b[39m\u001b[39m*\u001b[39mkwds)\n\u001b[0;32m     81\u001b[0m \u001b[39mself\u001b[39m\u001b[39m.\u001b[39munnamed_cols \u001b[39m=\u001b[39m \u001b[39mself\u001b[39m\u001b[39m.\u001b[39m_reader\u001b[39m.\u001b[39munnamed_cols\n\u001b[0;32m     83\u001b[0m \u001b[39m# error: Cannot determine type of 'names'\u001b[39;00m\n",
      "File \u001b[1;32mc:\\Users\\super\\AppData\\Local\\Programs\\Python\\Python310\\lib\\site-packages\\pandas\\_libs\\parsers.pyx:554\u001b[0m, in \u001b[0;36mpandas._libs.parsers.TextReader.__cinit__\u001b[1;34m()\u001b[0m\n",
      "\u001b[1;31mEmptyDataError\u001b[0m: No columns to parse from file"
     ]
    }
   ],
   "source": [
    "from os import walk\n",
    "\n",
    "Laufen = []\n",
    "Rennen = []\n",
    "Sitzen = []\n",
    "Stehen = []\n",
    "Treppenlaufen  = []\n",
    "Velofahren = []\n",
    "csv_Laufen = set()\n",
    "csv_Treppenlaufen = set()\n",
    "csv_Velofahren = set()\n",
    "csv_Stehen = set()\n",
    "csv_Sitzen = set()\n",
    "\n",
    "\n",
    "\n",
    "for (dirpath, dirnames, filenames) in walk(\"Messungen\"):\n",
    "    for file in filenames:\n",
    "        if file.endswith('.zip'):\n",
    "            convert_zip_of_csv_to_json(dirpath + '\\\\' + file, dirpath, file[:-4])\n",
    "            \n",
    "                   \n",
    "        \n",
    "    if (dirpath.count('\\\\') == 2):\n",
    "        if ('Laufen' in dirpath):\n",
    "            for filename in filenames:\n",
    "                Laufen.append(dirpath + '\\\\' +filename)\n",
    "        elif ('Sitzen' in dirpath):\n",
    "            for filename in filenames:\n",
    "                Sitzen.append(dirpath + '\\\\' +filename)\n",
    "        elif('Stehen' in dirpath):\n",
    "            for filename in filenames:\n",
    "                Stehen.append(dirpath + '\\\\' +filename)\n",
    "        elif('Rennen' in dirpath):\n",
    "            for filename in filenames:\n",
    "                Rennen.append(dirpath + '\\\\' +filename)\n",
    "        elif('Velofahren' in dirpath):\n",
    "            for filename in filenames:\n",
    "                Velofahren.append(dirpath + '\\\\' +filename)\n",
    "        elif('Treppenlaufen' in dirpath):\n",
    "            for filename in filenames:\n",
    "                Treppenlaufen.append(dirpath + '\\\\' +filename)\n",
    "\n",
    "convert_temp_csv_to_json()\n"
   ]
  },
  {
   "cell_type": "code",
   "execution_count": 68,
   "metadata": {},
   "outputs": [],
   "source": [
    "def combine_all_file_with_dirpath(dirpaths):\n",
    "    all_files = []\n",
    "    for dirpath in dirpaths:\n",
    "        for (dirpath, dirnames, filenames) in walk(dirpath):\n",
    "            for filename in filenames:\n",
    "                all_files.append(dirpath + '\\\\' + filename)\n",
    "    return all_files"
   ]
  },
  {
   "cell_type": "code",
   "execution_count": 73,
   "metadata": {},
   "outputs": [],
   "source": [
    "files_laufen = combine_all_file_with_dirpath(Laufen)\n",
    "files_rennen = combine_all_file_with_dirpath(Rennen)\n",
    "files_sitzen = combine_all_file_with_dirpath(Sitzen)\n",
    "files_stehen = combine_all_file_with_dirpath(Stehen)\n",
    "files_rennen = combine_all_file_with_dirpath(Rennen)\n",
    "files_velofahren = combine_all_file_with_dirpath(Velofahren)\n",
    "files_treppenlaufen = combine_all_file_with_dirpath(Treppenlaufen)\n"
   ]
  },
  {
   "cell_type": "code",
   "execution_count": 74,
   "metadata": {},
   "outputs": [],
   "source": [
    "import json\n",
    "def concat_json(files):\n",
    "    all_json = []\n",
    "    for file in files:\n",
    "        with open(file, 'r') as f:\n",
    "            all_json.append(json.load(f))\n",
    "    return all_json"
   ]
  },
  {
   "cell_type": "code",
   "execution_count": 76,
   "metadata": {},
   "outputs": [
    {
     "name": "stdout",
     "output_type": "stream",
     "text": [
      "['Messungen\\\\Laufen\\\\Ben_Tran\\\\01_SamsungA22-2023-02-23_15-46-13.json', 'Messungen\\\\Laufen\\\\Ben_Tran\\\\02_SamsungA22-2023-02-24_11-56-10.json', 'Messungen\\\\Laufen\\\\Ben_Tran\\\\03-SamsungA22-2023-02-24_13-12-51.json', 'Messungen\\\\Laufen\\\\Florin_Barbisch\\\\01_Pixel6-2023-02-24_17-31-22.zip', 'Messungen\\\\Laufen\\\\Gabriel_Torres\\\\01_iPhone13ProMax-2023-02-23_17-00-29.json', 'Messungen\\\\Laufen\\\\Gabriel_Torres\\\\02_iPhone13ProMax-2023-02-24_13-13-16.json']\n"
     ]
    },
    {
     "ename": "UnicodeDecodeError",
     "evalue": "'charmap' codec can't decode byte 0x9d in position 14: character maps to <undefined>",
     "output_type": "error",
     "traceback": [
      "\u001b[1;31m---------------------------------------------------------------------------\u001b[0m",
      "\u001b[1;31mUnicodeDecodeError\u001b[0m                        Traceback (most recent call last)",
      "Cell \u001b[1;32mIn[76], line 2\u001b[0m\n\u001b[0;32m      1\u001b[0m \u001b[39mprint\u001b[39m(files_laufen)\n\u001b[1;32m----> 2\u001b[0m concat_laufen \u001b[39m=\u001b[39m concat_json(files_laufen)\n",
      "Cell \u001b[1;32mIn[74], line 6\u001b[0m, in \u001b[0;36mconcat_json\u001b[1;34m(files)\u001b[0m\n\u001b[0;32m      4\u001b[0m \u001b[39mfor\u001b[39;00m file \u001b[39min\u001b[39;00m files:\n\u001b[0;32m      5\u001b[0m     \u001b[39mwith\u001b[39;00m \u001b[39mopen\u001b[39m(file, \u001b[39m'\u001b[39m\u001b[39mr\u001b[39m\u001b[39m'\u001b[39m) \u001b[39mas\u001b[39;00m f:\n\u001b[1;32m----> 6\u001b[0m         all_json\u001b[39m.\u001b[39mappend(json\u001b[39m.\u001b[39;49mload(f))\n\u001b[0;32m      7\u001b[0m \u001b[39mreturn\u001b[39;00m all_json\n",
      "File \u001b[1;32mc:\\Users\\super\\AppData\\Local\\Programs\\Python\\Python310\\lib\\json\\__init__.py:293\u001b[0m, in \u001b[0;36mload\u001b[1;34m(fp, cls, object_hook, parse_float, parse_int, parse_constant, object_pairs_hook, **kw)\u001b[0m\n\u001b[0;32m    274\u001b[0m \u001b[39mdef\u001b[39;00m \u001b[39mload\u001b[39m(fp, \u001b[39m*\u001b[39m, \u001b[39mcls\u001b[39m\u001b[39m=\u001b[39m\u001b[39mNone\u001b[39;00m, object_hook\u001b[39m=\u001b[39m\u001b[39mNone\u001b[39;00m, parse_float\u001b[39m=\u001b[39m\u001b[39mNone\u001b[39;00m,\n\u001b[0;32m    275\u001b[0m         parse_int\u001b[39m=\u001b[39m\u001b[39mNone\u001b[39;00m, parse_constant\u001b[39m=\u001b[39m\u001b[39mNone\u001b[39;00m, object_pairs_hook\u001b[39m=\u001b[39m\u001b[39mNone\u001b[39;00m, \u001b[39m*\u001b[39m\u001b[39m*\u001b[39mkw):\n\u001b[0;32m    276\u001b[0m \u001b[39m    \u001b[39m\u001b[39m\"\"\"Deserialize ``fp`` (a ``.read()``-supporting file-like object containing\u001b[39;00m\n\u001b[0;32m    277\u001b[0m \u001b[39m    a JSON document) to a Python object.\u001b[39;00m\n\u001b[0;32m    278\u001b[0m \n\u001b[1;32m   (...)\u001b[0m\n\u001b[0;32m    291\u001b[0m \u001b[39m    kwarg; otherwise ``JSONDecoder`` is used.\u001b[39;00m\n\u001b[0;32m    292\u001b[0m \u001b[39m    \"\"\"\u001b[39;00m\n\u001b[1;32m--> 293\u001b[0m     \u001b[39mreturn\u001b[39;00m loads(fp\u001b[39m.\u001b[39;49mread(),\n\u001b[0;32m    294\u001b[0m         \u001b[39mcls\u001b[39m\u001b[39m=\u001b[39m\u001b[39mcls\u001b[39m, object_hook\u001b[39m=\u001b[39mobject_hook,\n\u001b[0;32m    295\u001b[0m         parse_float\u001b[39m=\u001b[39mparse_float, parse_int\u001b[39m=\u001b[39mparse_int,\n\u001b[0;32m    296\u001b[0m         parse_constant\u001b[39m=\u001b[39mparse_constant, object_pairs_hook\u001b[39m=\u001b[39mobject_pairs_hook, \u001b[39m*\u001b[39m\u001b[39m*\u001b[39mkw)\n",
      "File \u001b[1;32mc:\\Users\\super\\AppData\\Local\\Programs\\Python\\Python310\\lib\\encodings\\cp1252.py:23\u001b[0m, in \u001b[0;36mIncrementalDecoder.decode\u001b[1;34m(self, input, final)\u001b[0m\n\u001b[0;32m     22\u001b[0m \u001b[39mdef\u001b[39;00m \u001b[39mdecode\u001b[39m(\u001b[39mself\u001b[39m, \u001b[39minput\u001b[39m, final\u001b[39m=\u001b[39m\u001b[39mFalse\u001b[39;00m):\n\u001b[1;32m---> 23\u001b[0m     \u001b[39mreturn\u001b[39;00m codecs\u001b[39m.\u001b[39;49mcharmap_decode(\u001b[39minput\u001b[39;49m,\u001b[39mself\u001b[39;49m\u001b[39m.\u001b[39;49merrors,decoding_table)[\u001b[39m0\u001b[39m]\n",
      "\u001b[1;31mUnicodeDecodeError\u001b[0m: 'charmap' codec can't decode byte 0x9d in position 14: character maps to <undefined>"
     ]
    }
   ],
   "source": [
    "\n",
    "concat_laufen = concat_json(files_laufen)"
   ]
  },
  {
   "cell_type": "code",
   "execution_count": null,
   "metadata": {},
   "outputs": [],
   "source": []
  },
  {
   "cell_type": "code",
   "execution_count": null,
   "metadata": {},
   "outputs": [],
   "source": []
  }
 ],
 "metadata": {
  "kernelspec": {
   "display_name": "Python 3",
   "language": "python",
   "name": "python3"
  },
  "language_info": {
   "codemirror_mode": {
    "name": "ipython",
    "version": 3
   },
   "file_extension": ".py",
   "mimetype": "text/x-python",
   "name": "python",
   "nbconvert_exporter": "python",
   "pygments_lexer": "ipython3",
   "version": "3.10.9"
  },
  "orig_nbformat": 4,
  "vscode": {
   "interpreter": {
    "hash": "118d2d70b9837ec74e99cd8e271bd7c1e24309015268c38b027840ab45e80ec0"
   }
  }
 },
 "nbformat": 4,
 "nbformat_minor": 2
}
